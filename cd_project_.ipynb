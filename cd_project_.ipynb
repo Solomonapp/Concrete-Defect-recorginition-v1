{
  "nbformat": 4,
  "nbformat_minor": 0,
  "metadata": {
    "colab": {
      "name": "cd project .ipynb",
      "private_outputs": true,
      "provenance": [],
      "authorship_tag": "ABX9TyMmKDO1IdPLdA+HKi0TPn0+"
    },
    "kernelspec": {
      "name": "python3",
      "display_name": "Python 3"
    },
    "accelerator": "GPU"
  },
  "cells": [
    {
      "cell_type": "code",
      "metadata": {
        "id": "O8F9qRDYq6B7"
      },
      "source": [
        "!pip install tflite-model-maker"
      ],
      "execution_count": null,
      "outputs": []
    },
    {
      "cell_type": "code",
      "metadata": {
        "id": "8RtkcxMTq-eh"
      },
      "source": [
        "import os\r\n",
        "\r\n",
        "import numpy as np\r\n",
        "\r\n",
        "import tensorflow as tf\r\n",
        "assert tf.__version__.startswith('2')\r\n",
        "\r\n",
        "from tflite_model_maker import configs\r\n",
        "from tflite_model_maker import ExportFormat\r\n",
        "from tflite_model_maker import image_classifier\r\n",
        "from tflite_model_maker import ImageClassifierDataLoader\r\n",
        "from tflite_model_maker import model_spec\r\n",
        "\r\n",
        "import matplotlib.pyplot as plt"
      ],
      "execution_count": null,
      "outputs": []
    },
    {
      "cell_type": "code",
      "metadata": {
        "id": "QdacxyRkF9Yl"
      },
      "source": [
        "from zipfile import ZipFile\r\n",
        "file_name = \"data.zip\"\r\n",
        "with ZipFile(file_name, 'r') as zip:\r\n",
        "  zip.extractall()\r\n",
        "  print('Done')"
      ],
      "execution_count": null,
      "outputs": []
    },
    {
      "cell_type": "code",
      "metadata": {
        "id": "7o7E9IHtAGFS"
      },
      "source": [
        "image_path = '/content/Data'"
      ],
      "execution_count": null,
      "outputs": []
    },
    {
      "cell_type": "code",
      "metadata": {
        "id": "Ymdww24tApSI"
      },
      "source": [
        "train_data, test_data = ImageClassifierDataLoader.from_folder(image_path).split(0.9)"
      ],
      "execution_count": null,
      "outputs": []
    },
    {
      "cell_type": "code",
      "metadata": {
        "id": "qappBEGADbZ8"
      },
      "source": [
        "model = image_classifier.create(train_data)"
      ],
      "execution_count": null,
      "outputs": []
    },
    {
      "cell_type": "code",
      "metadata": {
        "id": "SPLYgMN-HHjw"
      },
      "source": [
        "\r\n",
        "loss, accuracy = model.evaluate(test_data)"
      ],
      "execution_count": null,
      "outputs": []
    },
    {
      "cell_type": "code",
      "metadata": {
        "id": "xnppgbh4IB0O"
      },
      "source": [
        "model.export(export_dir='.', with_metadata=True)"
      ],
      "execution_count": null,
      "outputs": []
    }
  ]
}